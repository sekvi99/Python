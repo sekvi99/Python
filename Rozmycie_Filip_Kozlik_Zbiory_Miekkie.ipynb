{
 "cells": [
  {
   "cell_type": "code",
   "execution_count": 3,
   "metadata": {},
   "outputs": [],
   "source": [
    "class SoftSet:\n",
    "    @staticmethod\n",
    "    def classify(products, values, sample):\n",
    "        \n",
    "        # obliczenie skladowych\n",
    "        results = []\n",
    "        \n",
    "        for i in range(0, len(products)):\n",
    "            #Dostanie się do konkretnego rekordu w values\n",
    "            single_row = values[i]\n",
    "            #Wartosc poczatkowa przed iloczynem składowych\n",
    "            calculated_Value = 0\n",
    "            \n",
    "            #Iterujemy po kluczach tj. czerwone, zielone, swieze\n",
    "            for key in single_row.keys():\n",
    "                #Dostajemy się do wartości ukrytej pod kluczem\n",
    "                #Iloczyn składowych\n",
    "                calculated_Value += single_row[key]*sample[key]\n",
    "                print(calculated_Value)\n",
    "            \n",
    "            #Dodajemy wartość do listy results dla obliczonego rekordu\n",
    "            results.append(calculated_Value)\n",
    "            \n",
    "        # znalezienie maksimum\n",
    "        maximum = max(results)\n",
    "        \n",
    "        #Szukany index, pod ktorym mamy maximum\n",
    "        ind = results.index(maximum)\n",
    "            \n",
    "        #zwrocenie klasy z maksimum\n",
    "        return products[ind]"
   ]
  },
  {
   "cell_type": "code",
   "execution_count": 5,
   "metadata": {},
   "outputs": [
    {
     "name": "stdout",
     "output_type": "stream",
     "text": [
      "Czy papryka jest czerwone - podaj wartość z (0,1)\n",
      "0.7\n",
      "Czy papryka jest zielone - podaj wartość z (0,1)\n",
      "0.3\n",
      "Czy papryka jest swieze - podaj wartość z (0,1)\n",
      "0.9\n",
      "Czy gruszka jest czerwone - podaj wartość z (0,1)\n",
      "0.3\n",
      "Czy gruszka jest zielone - podaj wartość z (0,1)\n",
      "0.7\n",
      "Czy gruszka jest swieze - podaj wartość z (0,1)\n",
      "1.0\n",
      "Czy cebula jest czerwone - podaj wartość z (0,1)\n",
      "0.0\n",
      "Czy cebula jest zielone - podaj wartość z (0,1)\n",
      "0.0\n",
      "Czy cebula jest swieze - podaj wartość z (0,1)\n",
      "0.8\n",
      "[{'czerwone': 0.7, 'zielone': 0.3, 'swieze': 0.9}, {'czerwone': 0.3, 'zielone': 0.7, 'swieze': 1.0}, {'czerwone': 0.0, 'zielone': 0.0, 'swieze': 0.8}]\n",
      "0.0\n",
      "0.0\n",
      "0.7200000000000001\n",
      "0.0\n",
      "0.0\n",
      "0.8\n",
      "0.0\n",
      "0.0\n",
      "0.6400000000000001\n",
      "gruszka\n"
     ]
    }
   ],
   "source": [
    "#Lista produktów\n",
    "products = ['papryka', 'gruszka', 'cebula']\n",
    "properties = ['czerwone', 'zielone', 'swieze']\n",
    "values = []\n",
    "\n",
    "\n",
    "#Dla kazdego produktu iterujemy po jego cechach\n",
    "for i in range(0, len(products)):\n",
    "    single_value = {}\n",
    "    for prop in properties:\n",
    "        print(\"Czy {} jest {} - podaj wartość z (0,1)\".format(products[i], prop))\n",
    "        #Podajemy z reki wartosci dla kolejnych produktow\n",
    "        single_value[prop] = float(input())\n",
    "        #Wartosci z zakresu (0,1)\n",
    "        if single_value[prop] > 1:\n",
    "            #W przypadku przekroczenia zakresu podnies wyjatek\n",
    "            raise ValueError(\"Wartosc nie moze przekraczac 1!\")\n",
    "    values.append(single_value)\n",
    "\n",
    "#Zdefiniowana probka\n",
    "sample = {'czerwone':0.0, 'zielone':0.0, 'swieze':0.8}\n",
    "\n",
    "result = SoftSet.classify(products, values, sample)\n",
    "print(result)"
   ]
  },
  {
   "cell_type": "code",
   "execution_count": null,
   "metadata": {},
   "outputs": [],
   "source": []
  },
  {
   "cell_type": "code",
   "execution_count": null,
   "metadata": {},
   "outputs": [],
   "source": []
  }
 ],
 "metadata": {
  "kernelspec": {
   "display_name": "Python 3",
   "language": "python",
   "name": "python3"
  },
  "language_info": {
   "codemirror_mode": {
    "name": "ipython",
    "version": 3
   },
   "file_extension": ".py",
   "mimetype": "text/x-python",
   "name": "python",
   "nbconvert_exporter": "python",
   "pygments_lexer": "ipython3",
   "version": "3.8.5"
  }
 },
 "nbformat": 4,
 "nbformat_minor": 4
}
